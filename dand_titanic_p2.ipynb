{
 "cells": [
  {
   "cell_type": "markdown",
   "metadata": {},
   "source": [
    "# Introduction\n",
    "\n",
    "## (Men take more risks, but women are better at surviving)\n",
    "\n",
    "This is the project 2 of Data Anylist Nanodegree, 2017. it will be evaluated by this requirements\n",
    "https://review.udacity.com/#!/rubrics/107/view\n",
    "We will try here to study the Titanic data of 891 passengers in order to do wrangling and bring useful findings at the end. <br>\n",
    "\n",
    "---------------------\n",
    "##### Helpful tools\n",
    "\n",
    "It will be very helpful to import pandas for this case because it will make our task very easy especially with dealing with csv files"
   ]
  },
  {
   "cell_type": "code",
   "execution_count": 1,
   "metadata": {
    "collapsed": true
   },
   "outputs": [],
   "source": [
    "import pandas as pd"
   ]
  },
  {
   "cell_type": "code",
   "execution_count": 2,
   "metadata": {
    "collapsed": true
   },
   "outputs": [],
   "source": [
    "import numpy as np\n",
    "import matplotlib.pyplot as plt\n",
    "import seaborn as sns\n",
    "%matplotlib inline"
   ]
  },
  {
   "cell_type": "markdown",
   "metadata": {},
   "source": [
    "-------\n",
    "Now, we will read the csv data."
   ]
  },
  {
   "cell_type": "code",
   "execution_count": 3,
   "metadata": {},
   "outputs": [
    {
     "data": {
      "text/html": [
       "<div>\n",
       "<style>\n",
       "    .dataframe thead tr:only-child th {\n",
       "        text-align: right;\n",
       "    }\n",
       "\n",
       "    .dataframe thead th {\n",
       "        text-align: left;\n",
       "    }\n",
       "\n",
       "    .dataframe tbody tr th {\n",
       "        vertical-align: top;\n",
       "    }\n",
       "</style>\n",
       "<table border=\"1\" class=\"dataframe\">\n",
       "  <thead>\n",
       "    <tr style=\"text-align: right;\">\n",
       "      <th></th>\n",
       "      <th>PassengerId</th>\n",
       "      <th>Survived</th>\n",
       "      <th>Pclass</th>\n",
       "      <th>Name</th>\n",
       "      <th>Sex</th>\n",
       "      <th>Age</th>\n",
       "      <th>SibSp</th>\n",
       "      <th>Parch</th>\n",
       "      <th>Ticket</th>\n",
       "      <th>Fare</th>\n",
       "      <th>Cabin</th>\n",
       "      <th>Embarked</th>\n",
       "    </tr>\n",
       "  </thead>\n",
       "  <tbody>\n",
       "    <tr>\n",
       "      <th>0</th>\n",
       "      <td>1</td>\n",
       "      <td>0</td>\n",
       "      <td>3</td>\n",
       "      <td>Braund, Mr. Owen Harris</td>\n",
       "      <td>male</td>\n",
       "      <td>22.0</td>\n",
       "      <td>1</td>\n",
       "      <td>0</td>\n",
       "      <td>A/5 21171</td>\n",
       "      <td>7.2500</td>\n",
       "      <td>NaN</td>\n",
       "      <td>S</td>\n",
       "    </tr>\n",
       "    <tr>\n",
       "      <th>1</th>\n",
       "      <td>2</td>\n",
       "      <td>1</td>\n",
       "      <td>1</td>\n",
       "      <td>Cumings, Mrs. John Bradley (Florence Briggs Th...</td>\n",
       "      <td>female</td>\n",
       "      <td>38.0</td>\n",
       "      <td>1</td>\n",
       "      <td>0</td>\n",
       "      <td>PC 17599</td>\n",
       "      <td>71.2833</td>\n",
       "      <td>C85</td>\n",
       "      <td>C</td>\n",
       "    </tr>\n",
       "    <tr>\n",
       "      <th>2</th>\n",
       "      <td>3</td>\n",
       "      <td>1</td>\n",
       "      <td>3</td>\n",
       "      <td>Heikkinen, Miss. Laina</td>\n",
       "      <td>female</td>\n",
       "      <td>26.0</td>\n",
       "      <td>0</td>\n",
       "      <td>0</td>\n",
       "      <td>STON/O2. 3101282</td>\n",
       "      <td>7.9250</td>\n",
       "      <td>NaN</td>\n",
       "      <td>S</td>\n",
       "    </tr>\n",
       "    <tr>\n",
       "      <th>3</th>\n",
       "      <td>4</td>\n",
       "      <td>1</td>\n",
       "      <td>1</td>\n",
       "      <td>Futrelle, Mrs. Jacques Heath (Lily May Peel)</td>\n",
       "      <td>female</td>\n",
       "      <td>35.0</td>\n",
       "      <td>1</td>\n",
       "      <td>0</td>\n",
       "      <td>113803</td>\n",
       "      <td>53.1000</td>\n",
       "      <td>C123</td>\n",
       "      <td>S</td>\n",
       "    </tr>\n",
       "    <tr>\n",
       "      <th>4</th>\n",
       "      <td>5</td>\n",
       "      <td>0</td>\n",
       "      <td>3</td>\n",
       "      <td>Allen, Mr. William Henry</td>\n",
       "      <td>male</td>\n",
       "      <td>35.0</td>\n",
       "      <td>0</td>\n",
       "      <td>0</td>\n",
       "      <td>373450</td>\n",
       "      <td>8.0500</td>\n",
       "      <td>NaN</td>\n",
       "      <td>S</td>\n",
       "    </tr>\n",
       "  </tbody>\n",
       "</table>\n",
       "</div>"
      ],
      "text/plain": [
       "   PassengerId  Survived  Pclass  \\\n",
       "0            1         0       3   \n",
       "1            2         1       1   \n",
       "2            3         1       3   \n",
       "3            4         1       1   \n",
       "4            5         0       3   \n",
       "\n",
       "                                                Name     Sex   Age  SibSp  \\\n",
       "0                            Braund, Mr. Owen Harris    male  22.0      1   \n",
       "1  Cumings, Mrs. John Bradley (Florence Briggs Th...  female  38.0      1   \n",
       "2                             Heikkinen, Miss. Laina  female  26.0      0   \n",
       "3       Futrelle, Mrs. Jacques Heath (Lily May Peel)  female  35.0      1   \n",
       "4                           Allen, Mr. William Henry    male  35.0      0   \n",
       "\n",
       "   Parch            Ticket     Fare Cabin Embarked  \n",
       "0      0         A/5 21171   7.2500   NaN        S  \n",
       "1      0          PC 17599  71.2833   C85        C  \n",
       "2      0  STON/O2. 3101282   7.9250   NaN        S  \n",
       "3      0            113803  53.1000  C123        S  \n",
       "4      0            373450   8.0500   NaN        S  "
      ]
     },
     "execution_count": 3,
     "metadata": {},
     "output_type": "execute_result"
    }
   ],
   "source": [
    "# get titanic data\n",
    "data = pd.read_csv('titanic-data.csv')\n",
    "\n",
    "# preview the data\n",
    "data.head()"
   ]
  },
  {
   "cell_type": "code",
   "execution_count": 4,
   "metadata": {},
   "outputs": [
    {
     "data": {
      "text/plain": [
       "PassengerId      0\n",
       "Survived         0\n",
       "Pclass           0\n",
       "Name             0\n",
       "Sex              0\n",
       "Age            177\n",
       "SibSp            0\n",
       "Parch            0\n",
       "Ticket           0\n",
       "Fare             0\n",
       "Cabin          687\n",
       "Embarked         2\n",
       "dtype: int64"
      ]
     },
     "execution_count": 4,
     "metadata": {},
     "output_type": "execute_result"
    }
   ],
   "source": [
    "# calculating the missing value in each column\n",
    "data.isnull().sum()"
   ]
  },
  {
   "cell_type": "markdown",
   "metadata": {},
   "source": [
    "## 1- Questioning Stage\n",
    "After taking a look at the data, we can see there is a label of this data \"Survived\" represents whether or not the passenger died. Thus, I came with this qestion.\n",
    "##### how is the percentage of being survived varying with the passenger gender and age?\n",
    "\n",
    "\n",
    "--------"
   ]
  },
  {
   "cell_type": "markdown",
   "metadata": {},
   "source": [
    "-------------------------\n",
    "## 2 - Wrangling Stage\n",
    "#### ( acquisition, cleaning)\n",
    "\n",
    "One of the most important stages of data analyst is cleaning data, so sometimes we might need to transfer some columns to other expression or delete unuseful columns or fixed missing value. <br>\n",
    "Right now I suggest removing unuseful columns like Name, SibSp, Parch, Fare, Ticket, and PassengerId becouse they are not nassesry in our case. <br>\n",
    "In addition, there is 687 missing value in Cabin column wich is considerd as a high percentage 77%, so figuring out the missing values will be insignificant becouse 77% values of this column are missing. <br>"
   ]
  },
  {
   "cell_type": "code",
   "execution_count": 5,
   "metadata": {},
   "outputs": [
    {
     "data": {
      "text/html": [
       "<div>\n",
       "<style>\n",
       "    .dataframe thead tr:only-child th {\n",
       "        text-align: right;\n",
       "    }\n",
       "\n",
       "    .dataframe thead th {\n",
       "        text-align: left;\n",
       "    }\n",
       "\n",
       "    .dataframe tbody tr th {\n",
       "        vertical-align: top;\n",
       "    }\n",
       "</style>\n",
       "<table border=\"1\" class=\"dataframe\">\n",
       "  <thead>\n",
       "    <tr style=\"text-align: right;\">\n",
       "      <th></th>\n",
       "      <th>Survived</th>\n",
       "      <th>Pclass</th>\n",
       "      <th>Sex</th>\n",
       "      <th>Age</th>\n",
       "      <th>Embarked</th>\n",
       "    </tr>\n",
       "  </thead>\n",
       "  <tbody>\n",
       "    <tr>\n",
       "      <th>0</th>\n",
       "      <td>0</td>\n",
       "      <td>3</td>\n",
       "      <td>male</td>\n",
       "      <td>22.0</td>\n",
       "      <td>S</td>\n",
       "    </tr>\n",
       "    <tr>\n",
       "      <th>1</th>\n",
       "      <td>1</td>\n",
       "      <td>1</td>\n",
       "      <td>female</td>\n",
       "      <td>38.0</td>\n",
       "      <td>C</td>\n",
       "    </tr>\n",
       "    <tr>\n",
       "      <th>2</th>\n",
       "      <td>1</td>\n",
       "      <td>3</td>\n",
       "      <td>female</td>\n",
       "      <td>26.0</td>\n",
       "      <td>S</td>\n",
       "    </tr>\n",
       "    <tr>\n",
       "      <th>3</th>\n",
       "      <td>1</td>\n",
       "      <td>1</td>\n",
       "      <td>female</td>\n",
       "      <td>35.0</td>\n",
       "      <td>S</td>\n",
       "    </tr>\n",
       "    <tr>\n",
       "      <th>4</th>\n",
       "      <td>0</td>\n",
       "      <td>3</td>\n",
       "      <td>male</td>\n",
       "      <td>35.0</td>\n",
       "      <td>S</td>\n",
       "    </tr>\n",
       "  </tbody>\n",
       "</table>\n",
       "</div>"
      ],
      "text/plain": [
       "   Survived  Pclass     Sex   Age Embarked\n",
       "0         0       3    male  22.0        S\n",
       "1         1       1  female  38.0        C\n",
       "2         1       3  female  26.0        S\n",
       "3         1       1  female  35.0        S\n",
       "4         0       3    male  35.0        S"
      ]
     },
     "execution_count": 5,
     "metadata": {},
     "output_type": "execute_result"
    }
   ],
   "source": [
    "data = data.drop(['PassengerId','Name', 'SibSp', 'Parch', 'Fare','Ticket','Cabin'], axis=1)\n",
    "data.head()"
   ]
  },
  {
   "cell_type": "code",
   "execution_count": 8,
   "metadata": {},
   "outputs": [
    {
     "data": {
      "text/html": [
       "<div>\n",
       "<style>\n",
       "    .dataframe thead tr:only-child th {\n",
       "        text-align: right;\n",
       "    }\n",
       "\n",
       "    .dataframe thead th {\n",
       "        text-align: left;\n",
       "    }\n",
       "\n",
       "    .dataframe tbody tr th {\n",
       "        vertical-align: top;\n",
       "    }\n",
       "</style>\n",
       "<table border=\"1\" class=\"dataframe\">\n",
       "  <thead>\n",
       "    <tr style=\"text-align: right;\">\n",
       "      <th></th>\n",
       "      <th>Survived</th>\n",
       "      <th>Pclass</th>\n",
       "      <th>Age</th>\n",
       "    </tr>\n",
       "  </thead>\n",
       "  <tbody>\n",
       "    <tr>\n",
       "      <th>count</th>\n",
       "      <td>891.000000</td>\n",
       "      <td>891.000000</td>\n",
       "      <td>714.000000</td>\n",
       "    </tr>\n",
       "    <tr>\n",
       "      <th>mean</th>\n",
       "      <td>0.383838</td>\n",
       "      <td>2.308642</td>\n",
       "      <td>29.699118</td>\n",
       "    </tr>\n",
       "    <tr>\n",
       "      <th>std</th>\n",
       "      <td>0.486592</td>\n",
       "      <td>0.836071</td>\n",
       "      <td>14.526497</td>\n",
       "    </tr>\n",
       "    <tr>\n",
       "      <th>min</th>\n",
       "      <td>0.000000</td>\n",
       "      <td>1.000000</td>\n",
       "      <td>0.420000</td>\n",
       "    </tr>\n",
       "    <tr>\n",
       "      <th>25%</th>\n",
       "      <td>0.000000</td>\n",
       "      <td>2.000000</td>\n",
       "      <td>20.125000</td>\n",
       "    </tr>\n",
       "    <tr>\n",
       "      <th>50%</th>\n",
       "      <td>0.000000</td>\n",
       "      <td>3.000000</td>\n",
       "      <td>28.000000</td>\n",
       "    </tr>\n",
       "    <tr>\n",
       "      <th>75%</th>\n",
       "      <td>1.000000</td>\n",
       "      <td>3.000000</td>\n",
       "      <td>38.000000</td>\n",
       "    </tr>\n",
       "    <tr>\n",
       "      <th>max</th>\n",
       "      <td>1.000000</td>\n",
       "      <td>3.000000</td>\n",
       "      <td>80.000000</td>\n",
       "    </tr>\n",
       "  </tbody>\n",
       "</table>\n",
       "</div>"
      ],
      "text/plain": [
       "         Survived      Pclass         Age\n",
       "count  891.000000  891.000000  714.000000\n",
       "mean     0.383838    2.308642   29.699118\n",
       "std      0.486592    0.836071   14.526497\n",
       "min      0.000000    1.000000    0.420000\n",
       "25%      0.000000    2.000000   20.125000\n",
       "50%      0.000000    3.000000   28.000000\n",
       "75%      1.000000    3.000000   38.000000\n",
       "max      1.000000    3.000000   80.000000"
      ]
     },
     "execution_count": 8,
     "metadata": {},
     "output_type": "execute_result"
    }
   ],
   "source": [
    "pd.DataFrame.describe(data)  # = data.describe()"
   ]
  },
  {
   "cell_type": "markdown",
   "metadata": {},
   "source": [
    "### Fix the missing values\n",
    "Since we are going to use 'Age' column, We shall fill the missing value in 'Age'. For the Age, we will use the mean value for each gender and we will fill male missing value with Age male mean, and the same thing with female missing value.\n",
    "\n",
    "resource (https://chrisalbon.com/python/pandas_missing_data.html)"
   ]
  },
  {
   "cell_type": "code",
   "execution_count": 9,
   "metadata": {},
   "outputs": [
    {
     "name": "stdout",
     "output_type": "stream",
     "text": [
      "      Sex   Age\n",
      "0  female  27.0\n",
      "1    male  29.0\n"
     ]
    }
   ],
   "source": [
    "# First, we will check the median of male and female Age\n",
    "mean_missing_Age_value = data[['Age', 'Sex']].groupby(['Sex'], as_index=False).median().sort_values(by='Sex', ascending=True)\n",
    "print mean_missing_Age_value"
   ]
  },
  {
   "cell_type": "code",
   "execution_count": 10,
   "metadata": {
    "collapsed": true
   },
   "outputs": [],
   "source": [
    "# Other way to find median\n",
    "#def mymed(group):\n",
    "    #return np.median(group.dropna())\n",
    "\n",
    "#mew = data.groupby('Sex')['Age'].apply(mymed)\n",
    "#mew"
   ]
  },
  {
   "cell_type": "code",
   "execution_count": 11,
   "metadata": {
    "collapsed": true
   },
   "outputs": [],
   "source": [
    "# Fill in missing in Age with each Sex's mean value of Age\n",
    "data['Age'].fillna(data.groupby('Sex')['Age'].transform('median'), inplace=True)"
   ]
  },
  {
   "cell_type": "code",
   "execution_count": 12,
   "metadata": {
    "collapsed": true
   },
   "outputs": [],
   "source": [
    "# we can check the new values by printing data\n",
    "#data"
   ]
  },
  {
   "cell_type": "code",
   "execution_count": 13,
   "metadata": {},
   "outputs": [
    {
     "name": "stdout",
     "output_type": "stream",
     "text": [
      "      Sex   Age\n",
      "0  female  27.0\n",
      "1    male  29.0\n"
     ]
    }
   ],
   "source": [
    "# Check again the mean of male and female Age\n",
    "mean_missing_Age_value = data[['Age', 'Sex']].groupby(['Sex'], as_index=False).median().sort_values(by='Sex', ascending=True)\n",
    "print mean_missing_Age_value"
   ]
  },
  {
   "cell_type": "markdown",
   "metadata": {},
   "source": [
    "We can ensure that the new values that are added to the missing values\n",
    "don't change the median of male and female Age\n",
    "\n",
    "------"
   ]
  },
  {
   "cell_type": "code",
   "execution_count": 14,
   "metadata": {},
   "outputs": [
    {
     "name": "stdout",
     "output_type": "stream",
     "text": [
      "\n",
      " \n",
      "\n",
      " The number of missing value for each variable\n",
      "Survived    0\n",
      "Pclass      0\n",
      "Sex         0\n",
      "Age         0\n",
      "Embarked    2\n",
      "dtype: int64\n"
     ]
    }
   ],
   "source": [
    "#medianprint data.count()\n",
    "print \"\\n \\n\"\n",
    "print \" The number of missing value for each variable\"\n",
    "print data.isnull().sum()"
   ]
  },
  {
   "cell_type": "markdown",
   "metadata": {},
   "source": [
    "## 2 - Explore\n",
    "#### ( building intuition, finding patterns)\n",
    "\n",
    "\n",
    "Now, we are going to answer our qestion"
   ]
  },
  {
   "cell_type": "code",
   "execution_count": 15,
   "metadata": {},
   "outputs": [
    {
     "name": "stdout",
     "output_type": "stream",
     "text": [
      "        Survived  Pclass       Age\n",
      "Sex                               \n",
      "female       233     678   8717.00\n",
      "male         109    1379  17515.17\n"
     ]
    }
   ],
   "source": [
    "grouped_data = data.groupby('Sex')\n",
    "print grouped_data.sum()"
   ]
  },
  {
   "cell_type": "markdown",
   "metadata": {},
   "source": [
    "\n",
    "------------------\n",
    "\n"
   ]
  },
  {
   "cell_type": "code",
   "execution_count": 16,
   "metadata": {},
   "outputs": [
    {
     "data": {
      "text/plain": [
       "<seaborn.axisgrid.FacetGrid at 0x10fefda90>"
      ]
     },
     "execution_count": 16,
     "metadata": {},
     "output_type": "execute_result"
    },
    {
     "data": {
      "image/png": "[encoded data removed]",
      "text/plain": [
       "<matplotlib.figure.Figure at 0x10fefdc50>"
      ]
     },
     "metadata": {},
     "output_type": "display_data"
    }
   ],
   "source": [
    "sns.factorplot('Survived',data = data,kind='count')\n"
   ]
  },
  {
   "cell_type": "code",
   "execution_count": 25,
   "metadata": {},
   "outputs": [
    {
     "name": "stdout",
     "output_type": "stream",
     "text": [
      "The persentage of overall surviving passenger is 38.38 %\n"
     ]
    }
   ],
   "source": [
    "# the persentage of overall surviving passenger\n",
    "per_sur = data['Survived'].mean()\n",
    "\n",
    "print \"The persentage of overall surviving passenger is {} %\".format(round(per_sur* 100, 2))\n"
   ]
  },
  {
   "cell_type": "raw",
   "metadata": {},
   "source": [
    "This percentage 38.38% shows whether the passenger will be survived or not without any consideration of his/her age, class, gender, and other facts.\n",
    "\n",
    "_____\n"
   ]
  },
  {
   "cell_type": "code",
   "execution_count": 26,
   "metadata": {},
   "outputs": [
    {
     "data": {
      "text/plain": [
       "count    891.000000\n",
       "mean      29.441268\n",
       "std       13.018747\n",
       "min        0.420000\n",
       "25%       22.000000\n",
       "50%       29.000000\n",
       "75%       35.000000\n",
       "max       80.000000\n",
       "Name: Age, dtype: float64"
      ]
     },
     "execution_count": 26,
     "metadata": {},
     "output_type": "execute_result"
    }
   ],
   "source": [
    "# explore the Age statistic\n",
    "data['Age'].describe()"
   ]
  },
  {
   "cell_type": "code",
   "execution_count": 38,
   "metadata": {},
   "outputs": [
    {
     "data": {
      "text/plain": [
       "<matplotlib.text.Text at 0x11d87f510>"
      ]
     },
     "execution_count": 38,
     "metadata": {},
     "output_type": "execute_result"
    },
    {
     "data": {
      "image/png": "[encoded data removed]",
      "text/plain": [
       "<matplotlib.figure.Figure at 0x11d5e32d0>"
      ]
     },
     "metadata": {},
     "output_type": "display_data"
    }
   ],
   "source": [
    "# Getting the the histogram of the passenger age range\n",
    "plt.hist(data.Age,bins=16)\n",
    "plt.title('The Passenger Age Range')\n",
    "plt.xlabel('Age')\n",
    "plt.ylabel('frequency')"
   ]
  },
  {
   "cell_type": "markdown",
   "metadata": {},
   "source": [
    "The age are varied from 0 to 80 years, and the mean are located from 25 to 30.\n",
    "\n",
    "\n",
    "\n",
    "------------"
   ]
  },
  {
   "cell_type": "markdown",
   "metadata": {},
   "source": [
    "#### Categorize the Age value\n",
    "\n",
    "It will be very helpfull to group the age values into 3 to 5 groups"
   ]
  },
  {
   "cell_type": "code",
   "execution_count": 28,
   "metadata": {
    "collapsed": true
   },
   "outputs": [],
   "source": [
    "# add new column for grouping Age\n",
    "age = data['Age']\n",
    "def convert_age(age):\n",
    "    if age >= 61:\n",
    "        return 'E (61 to 80)'\n",
    "    if age >= 46:\n",
    "        return 'D (46 to 60)'\n",
    "    if age >= 31:\n",
    "        return 'C (31 to 45)'\n",
    "    if age >= 16:\n",
    "        return 'B (16 to 30)'\n",
    "    else:\n",
    "        return 'A (0 to 15)'\n",
    "\n",
    "age = age.apply(convert_age)"
   ]
  },
  {
   "cell_type": "code",
   "execution_count": 29,
   "metadata": {},
   "outputs": [
    {
     "data": {
      "text/html": [
       "<div>\n",
       "<style>\n",
       "    .dataframe thead tr:only-child th {\n",
       "        text-align: right;\n",
       "    }\n",
       "\n",
       "    .dataframe thead th {\n",
       "        text-align: left;\n",
       "    }\n",
       "\n",
       "    .dataframe tbody tr th {\n",
       "        vertical-align: top;\n",
       "    }\n",
       "</style>\n",
       "<table border=\"1\" class=\"dataframe\">\n",
       "  <thead>\n",
       "    <tr style=\"text-align: right;\">\n",
       "      <th></th>\n",
       "      <th>Survived</th>\n",
       "      <th>Pclass</th>\n",
       "      <th>Sex</th>\n",
       "      <th>Age</th>\n",
       "      <th>Embarked</th>\n",
       "      <th>age_conv</th>\n",
       "    </tr>\n",
       "  </thead>\n",
       "  <tbody>\n",
       "    <tr>\n",
       "      <th>0</th>\n",
       "      <td>0</td>\n",
       "      <td>3</td>\n",
       "      <td>male</td>\n",
       "      <td>22.0</td>\n",
       "      <td>S</td>\n",
       "      <td>B (16 to 30)</td>\n",
       "    </tr>\n",
       "    <tr>\n",
       "      <th>1</th>\n",
       "      <td>1</td>\n",
       "      <td>1</td>\n",
       "      <td>female</td>\n",
       "      <td>38.0</td>\n",
       "      <td>C</td>\n",
       "      <td>C (31 to 45)</td>\n",
       "    </tr>\n",
       "    <tr>\n",
       "      <th>2</th>\n",
       "      <td>1</td>\n",
       "      <td>3</td>\n",
       "      <td>female</td>\n",
       "      <td>26.0</td>\n",
       "      <td>S</td>\n",
       "      <td>B (16 to 30)</td>\n",
       "    </tr>\n",
       "    <tr>\n",
       "      <th>3</th>\n",
       "      <td>1</td>\n",
       "      <td>1</td>\n",
       "      <td>female</td>\n",
       "      <td>35.0</td>\n",
       "      <td>S</td>\n",
       "      <td>C (31 to 45)</td>\n",
       "    </tr>\n",
       "    <tr>\n",
       "      <th>4</th>\n",
       "      <td>0</td>\n",
       "      <td>3</td>\n",
       "      <td>male</td>\n",
       "      <td>35.0</td>\n",
       "      <td>S</td>\n",
       "      <td>C (31 to 45)</td>\n",
       "    </tr>\n",
       "  </tbody>\n",
       "</table>\n",
       "</div>"
      ],
      "text/plain": [
       "   Survived  Pclass     Sex   Age Embarked      age_conv\n",
       "0         0       3    male  22.0        S  B (16 to 30)\n",
       "1         1       1  female  38.0        C  C (31 to 45)\n",
       "2         1       3  female  26.0        S  B (16 to 30)\n",
       "3         1       1  female  35.0        S  C (31 to 45)\n",
       "4         0       3    male  35.0        S  C (31 to 45)"
      ]
     },
     "execution_count": 29,
     "metadata": {},
     "output_type": "execute_result"
    }
   ],
   "source": [
    "data['age_conv'] = age\n",
    "data.head()"
   ]
  },
  {
   "cell_type": "code",
   "execution_count": 30,
   "metadata": {},
   "outputs": [
    {
     "data": {
      "text/plain": [
       "891"
      ]
     },
     "execution_count": 30,
     "metadata": {},
     "output_type": "execute_result"
    }
   ],
   "source": [
    "# Make sure the age_conv has the same length of your data\n",
    "data['age_conv'].count()"
   ]
  },
  {
   "cell_type": "code",
   "execution_count": 31,
   "metadata": {},
   "outputs": [
    {
     "name": "stdout",
     "output_type": "stream",
     "text": [
      "       age_conv  Survived\n",
      "0   A (0 to 15)  0.590361\n",
      "1  B (16 to 30)  0.334653\n",
      "2  C (31 to 45)  0.425743\n",
      "3  D (46 to 60)  0.417722\n",
      "4  E (61 to 80)  0.227273\n"
     ]
    }
   ],
   "source": [
    "# printing the survival rate of each group\n",
    "x_data = data[['age_conv', 'Survived']].groupby(['age_conv'], as_index=False).mean().sort_values(by='age_conv', ascending=True)\n",
    "\n",
    "print x_data"
   ]
  },
  {
   "cell_type": "code",
   "execution_count": 32,
   "metadata": {},
   "outputs": [
    {
     "name": "stdout",
     "output_type": "stream",
     "text": [
      "       age_conv  Survived  count\n",
      "0   A (0 to 15)         0     34\n",
      "1   A (0 to 15)         1     49\n",
      "2  B (16 to 30)         0    336\n",
      "3  B (16 to 30)         1    169\n",
      "4  C (31 to 45)         0    116\n",
      "5  C (31 to 45)         1     86\n",
      "6  D (46 to 60)         0     46\n",
      "7  D (46 to 60)         1     33\n",
      "8  E (61 to 80)         0     17\n",
      "9  E (61 to 80)         1      5\n"
     ]
    }
   ],
   "source": [
    "# printing the number of passenger who survived or died for each group\n",
    "df = data.groupby(['age_conv', 'Survived']).size().reset_index().rename(columns={0:'count'})\n",
    "print df"
   ]
  },
  {
   "cell_type": "code",
   "execution_count": 33,
   "metadata": {},
   "outputs": [
    {
     "name": "stdout",
     "output_type": "stream",
     "text": [
      "        age_conv     Sex  Survived  count\n",
      "0    A (0 to 15)  female         0     15\n",
      "1    A (0 to 15)  female         1     28\n",
      "2    A (0 to 15)    male         0     19\n",
      "3    A (0 to 15)    male         1     21\n",
      "4   B (16 to 30)  female         0     47\n",
      "5   B (16 to 30)  female         1    122\n",
      "6   B (16 to 30)    male         0    289\n",
      "7   B (16 to 30)    male         1     47\n",
      "8   C (31 to 45)  female         0     15\n",
      "9   C (31 to 45)  female         1     57\n",
      "10  C (31 to 45)    male         0    101\n",
      "11  C (31 to 45)    male         1     29\n",
      "12  D (46 to 60)  female         0      4\n",
      "13  D (46 to 60)  female         1     23\n",
      "14  D (46 to 60)    male         0     42\n",
      "15  D (46 to 60)    male         1     10\n",
      "16  E (61 to 80)  female         1      3\n",
      "17  E (61 to 80)    male         0     17\n",
      "18  E (61 to 80)    male         1      2\n"
     ]
    }
   ],
   "source": [
    "# printing the number of passenger who survived or died\n",
    "# for each group with different gender\n",
    "df = data.groupby(['age_conv', 'Sex', 'Survived']).size().reset_index().rename(columns={0:'count'})\n",
    "print df"
   ]
  },
  {
   "cell_type": "code",
   "execution_count": 34,
   "metadata": {},
   "outputs": [
    {
     "name": "stdout",
     "output_type": "stream",
     "text": [
      "[52.5, 13.988095238095237, 22.307692307692307, 19.23076923076923, 10.526315789473685]\n"
     ]
    }
   ],
   "source": [
    "# the male survival rate percentage\n",
    "xr = [2,6,10,14,17]\n",
    "y =[]\n",
    "for i in xr:\n",
    "    r = i\n",
    "    z = r + 1\n",
    "    y.append(100 * float(df['count'][z])/(df['count'][r]+df['count'][z]))\n",
    "\n",
    "print y"
   ]
  },
  {
   "cell_type": "code",
   "execution_count": 35,
   "metadata": {},
   "outputs": [
    {
     "name": "stdout",
     "output_type": "stream",
     "text": [
      "[65.11627906976744, 72.18934911242603, 79.16666666666667, 85.18518518518519]\n"
     ]
    }
   ],
   "source": [
    "# the feamle survival rate percentage\n",
    "xr = [0,4,8,12]\n",
    "y =[]\n",
    "for i in xr:\n",
    "    r = i\n",
    "    z = r + 1\n",
    "    y.append(100 * float(df['count'][z])/(df['count'][r]+df['count'][z]))\n",
    "\n",
    "print y"
   ]
  },
  {
   "cell_type": "code",
   "execution_count": 36,
   "metadata": {},
   "outputs": [
    {
     "data": {
      "text/html": [
       "<div>\n",
       "<style>\n",
       "    .dataframe thead tr:only-child th {\n",
       "        text-align: right;\n",
       "    }\n",
       "\n",
       "    .dataframe thead th {\n",
       "        text-align: left;\n",
       "    }\n",
       "\n",
       "    .dataframe tbody tr th {\n",
       "        vertical-align: top;\n",
       "    }\n",
       "</style>\n",
       "<table border=\"1\" class=\"dataframe\">\n",
       "  <thead>\n",
       "    <tr style=\"text-align: right;\">\n",
       "      <th></th>\n",
       "      <th>Sex</th>\n",
       "      <th>Survived</th>\n",
       "    </tr>\n",
       "  </thead>\n",
       "  <tbody>\n",
       "    <tr>\n",
       "      <th>0</th>\n",
       "      <td>female</td>\n",
       "      <td>0.742038</td>\n",
       "    </tr>\n",
       "    <tr>\n",
       "      <th>1</th>\n",
       "      <td>male</td>\n",
       "      <td>0.188908</td>\n",
       "    </tr>\n",
       "  </tbody>\n",
       "</table>\n",
       "</div>"
      ],
      "text/plain": [
       "      Sex  Survived\n",
       "0  female  0.742038\n",
       "1    male  0.188908"
      ]
     },
     "execution_count": 36,
     "metadata": {},
     "output_type": "execute_result"
    }
   ],
   "source": [
    "# the overall survival rate of male and female passengers\n",
    "data[['Sex', 'Survived']].groupby(['Sex'], as_index=False).mean().sort_values(by='Survived', ascending=False)"
   ]
  },
  {
   "cell_type": "markdown",
   "metadata": {},
   "source": [
    "--------------\n",
    "\n",
    "#### Survival Rate in different gender and Age\n",
    "Now, we can answer our question \"how is the percentage of being survived varying with the passenger gender and age?\" <br>\n",
    "We will plot two graphs for male and females to show how the number of passengers who survived or died is varied in different gender and age"
   ]
  },
  {
   "cell_type": "code",
   "execution_count": 48,
   "metadata": {},
   "outputs": [
    {
     "data": {
      "text/plain": [
       "<seaborn.axisgrid.FacetGrid at 0x11f60fbd0>"
      ]
     },
     "execution_count": 48,
     "metadata": {},
     "output_type": "execute_result"
    },
    {
     "data": {
      "image/png": "[encoded data removed]",
      "text/plain": [
       "<matplotlib.figure.Figure at 0x11fbbc090>"
      ]
     },
     "metadata": {},
     "output_type": "display_data"
    }
   ],
   "source": [
    "import seaborn as sns\n",
    "g = sns.factorplot(x=\"age_conv\", hue=\"Survived\", col=\"Sex\", data=data, kind=\"count\", size=8, aspect=.7)\n",
    "\n",
    "# Set common labels\n",
    "g.set_axis_labels('Age', 'Frequency')"
   ]
  },
  {
   "cell_type": "markdown",
   "metadata": {},
   "source": [
    "we can see what variables that can affect the survival percentage to be positive or negative based on passenger's gender and age <br>\n",
    "The the statistics and graphs above shows that : <br>\n",
    "1- The female passengers in all age categories have a higher survival rate than males <br>\n",
    "2- The survival rate of female passengers ranges from 65 to 100 in all age categories, where the average is 74 % <br>\n",
    "3- The survival rate of male passengers ranges from 10 to 23 in all age categories except the children category \" 0 to 15 years\" that has 52.5 % of survival rate <br>"
   ]
  },
  {
   "cell_type": "markdown",
   "metadata": {},
   "source": [
    "## Conclusion\n",
    "\n",
    "The data statistics show that female passengers are the luckier passengers in Titanic, it might be because the nature of life requires men to protect women for many reasons some of which are: women are the caretakers of children, men are ready to scarify their life for their family, men can take risk more than women.\n",
    "\n",
    "This study is based on a specific sample from Titanic dataset, so there might be a bias on choosing the studied data. For further studies in future, we need to know how the sample was chosen, we also need to apply some of the machine learning algorithms to predict whether x passenger is survived or not."
   ]
  }
 ],
 "metadata": {
  "kernelspec": {
   "display_name": "Python [conda root]",
   "language": "python",
   "name": "conda-root-py"
  },
  "language_info": {
   "codemirror_mode": {
    "name": "ipython",
    "version": 2
   },
   "file_extension": ".py",
   "mimetype": "text/x-python",
   "name": "python",
   "nbconvert_exporter": "python",
   "pygments_lexer": "ipython2",
   "version": "2.7.13"
  }
 },
 "nbformat": 4,
 "nbformat_minor": 2
}
